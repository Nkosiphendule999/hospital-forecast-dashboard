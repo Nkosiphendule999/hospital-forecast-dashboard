{
 "cells": [
  {
   "cell_type": "code",
   "execution_count": null,
   "metadata": {},
   "outputs": [],
   "source": [
    "#** This dataset is specifically tailored for graph analysis of diseases. \n",
    "#It provides a multi-layered relational structure linking patients, diseases, families, and symptoms.\n",
    "#Through well-defined statistical distributions and scalable size, it forms a rich ground for exploring disease networks, symptom communities, \n",
    "#and patient similarity clusters, unlocking insights into complex healthcare patterns that are not easily discerned from flat, tabular data alone*\n",
    "#* [Dataset link](https://www.kaggle.com/datasets/ankurnapa/hospital-management-dataset?utm_source=chatgpt.com)\n",
    "\n",
    "#Group Members\n",
    "\n",
    "#N Ncobela 22423967\n",
    "#LN Buthelezi 22422133\n",
    "#SS Sitole 2242901 \n",
    "\n",
    "# 📌 1. Imports\n",
    "import zipfile\n",
    "import os\n",
    "import pandas as pd\n",
    "import numpy as np\n",
    "import matplotlib.pyplot as plt\n",
    "\n",
    "from sklearn.linear_model import LinearRegression\n",
    "from sklearn.ensemble import RandomForestRegressor\n",
    "from sklearn.metrics import mean_absolute_error, mean_squared_error\n",
    "from datetime import datetime, timedelta"
   ]
  },
  {
   "cell_type": "code",
   "execution_count": null,
   "metadata": {},
   "outputs": [],
   "source": [
    "# 📌 2. Function to load CSVs from a zip\n",
    "def read_csv_from_zip(zpath, filename):\n",
    "    try:\n",
    "        with zipfile.ZipFile(zpath) as z:\n",
    "            with z.open(filename) as f:\n",
    "                return pd.read_csv(f)\n",
    "    except Exception as e:\n",
    "        print(f\"❌ Error reading {filename}: {e}\")\n",
    "        return pd.DataFrame()"
   ]
  },
  {
   "cell_type": "code",
   "execution_count": null,
   "metadata": {},
   "outputs": [],
   "source": [
    "# 📌 3. Function to generate sample data\n",
    "def generate_sample_data():\n",
    "    dates = pd.date_range(start='2023-01-01', end='2023-12-31', freq='D')\n",
    "    \n",
    "    appointments_data = {\n",
    "        'appointment_id': range(1, 1001),\n",
    "        'patient_id': np.random.randint(1, 201, 1000),\n",
    "        'doctor_id': np.random.randint(1, 11, 1000),\n",
    "        'appointment_date': np.random.choice(dates, 1000),\n",
    "        'status': np.random.choice(\n",
    "            ['Completed', 'Cancelled', 'No Show', 'Scheduled'],\n",
    "            1000, p=[0.7, 0.1, 0.1, 0.1]\n",
    "        )\n",
    "    }\n",
    "    appointments = pd.DataFrame(appointments_data)\n",
    "\n",
    "    doctors_data = {\n",
    "        'doctor_id': range(1, 11),\n",
    "        'name': [f'Dr. {name}' for name in \n",
    "                 ['Smith','Johnson','Williams','Brown','Jones',\n",
    "                  'Garcia','Miller','Davis','Rodriguez','Martinez']],\n",
    "        'specialty': np.random.choice(\n",
    "            ['Cardiology','Pediatrics','Orthopedics','Neurology','Dermatology'], 10)\n",
    "    }\n",
    "    doctors = pd.DataFrame(doctors_data)\n",
    "\n",
    "    patients_data = {\n",
    "        'patient_id': range(1, 201),\n",
    "        'name': [f'Patient {i}' for i in range(1, 201)],\n",
    "        'age': np.random.randint(18, 80, 200),\n",
    "        'gender': np.random.choice(['Male','Female'], 200)\n",
    "    }\n",
    "    patients = pd.DataFrame(patients_data)\n",
    "\n",
    "    return appointments, doctors, patients"
   ]
  },
  {
   "cell_type": "code",
   "execution_count": null,
   "metadata": {},
   "outputs": [],
   "source": [
    "# 📌 4. Load data \n",
    "ZIP_PATH = \"archive (3).zip\"\n",
    "\n",
    "if not os.path.exists(ZIP_PATH):\n",
    "    print(f\"⚠️ Zip file not found at {ZIP_PATH}. Using sample data.\")\n",
    "    appointments, doctors, patients = generate_sample_data()\n",
    "else:\n",
    "    appointments = read_csv_from_zip(ZIP_PATH, \"appointments.csv\")\n",
    "    doctors = read_csv_from_zip(ZIP_PATH, \"doctors.csv\")\n",
    "    patients = read_csv_from_zip(ZIP_PATH, \"patients.csv\")\n",
    "\n",
    "appointments.head()"
   ]
  },
  {
   "cell_type": "code",
   "execution_count": null,
   "metadata": {},
   "outputs": [],
   "source": [
    "# 📌 5. Preprocessing\n",
    "appointments['appointment_date'] = pd.to_datetime(appointments['appointment_date'], errors='coerce')\n",
    "appointments['is_completed'] = appointments['status'].astype(str).str.lower().eq('completed').astype(int)\n",
    "\n",
    "daily = (appointments.groupby('appointment_date')['is_completed']\n",
    "         .sum()\n",
    "         .rename('demand')\n",
    "         .reset_index()\n",
    "         .rename(columns={'appointment_date':'date'}))\n",
    "\n",
    "date_index = pd.date_range(daily['date'].min(), daily['date'].max(), freq='D')\n",
    "daily = daily.set_index('date').reindex(date_index).fillna(0.0).rename_axis('date').reset_index()\n",
    "\n",
    "daily.head()"
   ]
  },
  {
   "cell_type": "code",
   "execution_count": null,
   "metadata": {},
   "outputs": [],
   "source": [
    "# 📌 6. Plot daily visits\n",
    "plt.figure(figsize=(12,5))\n",
    "plt.plot(daily['date'], daily['demand'], marker='o', markersize=2)\n",
    "plt.title(\"Daily Completed Visits\")\n",
    "plt.xlabel(\"Date\")\n",
    "plt.ylabel(\"Completed Visits\")\n",
    "plt.grid(True, linestyle=\"--\", alpha=0.6)\n",
    "plt.show()"
   ]
  },
  {
   "cell_type": "code",
   "execution_count": null,
   "metadata": {},
   "outputs": [],
   "source": [
    "# 📌 7. Feature engineering\n",
    "daily['year'] = daily['date'].dt.year\n",
    "daily['month'] = daily['date'].dt.month\n",
    "daily['day'] = daily['date'].dt.day\n",
    "daily['dow'] = daily['date'].dt.dayofweek\n",
    "daily['is_month_start'] = daily['date'].dt.is_month_start.astype(int)\n",
    "daily['is_month_end'] = daily['date'].dt.is_month_end.astype(int)\n",
    "\n",
    "for lag in [1, 7, 14]:\n",
    "    daily[f'lag_{lag}'] = daily['demand'].shift(lag)\n",
    "\n",
    "daily['roll7_mean'] = daily['demand'].rolling(7).mean()\n",
    "daily['roll14_mean'] = daily['demand'].rolling(14).mean()\n",
    "\n",
    "daily_model = daily.dropna().reset_index(drop=True)\n",
    "\n",
    "feature_cols = ['year','month','day','dow','is_month_start','is_month_end',\n",
    "                'lag_1','lag_7','lag_14','roll7_mean','roll14_mean']\n",
    "\n",
    "X = daily_model[feature_cols]\n",
    "y = daily_model['demand']"
   ]
  },
  {
   "cell_type": "code",
   "execution_count": null,
   "metadata": {},
   "outputs": [],
   "source": [
    "# 📌 8. Train/test split\n",
    "split_idx = int(len(daily_model) * 0.8)\n",
    "X_train, X_test = X.iloc[:split_idx], X.iloc[split_idx:]\n",
    "y_train, y_test = y.iloc[:split_idx], y.iloc[split_idx:]\n",
    "dates_test = daily_model['date'].iloc[split_idx:]"
   ]
  },
  {
   "cell_type": "code",
   "execution_count": null,
   "metadata": {},
   "outputs": [],
   "source": [
    "# 📌 9. Train RandomForest\n",
    "model = RandomForestRegressor(n_estimators=500, random_state=42)\n",
    "model.fit(X_train, y_train)\n",
    "preds = model.predict(X_test)\n",
    "\n",
    "mae = mean_absolute_error(y_test, preds)\n",
    "rmse = np.sqrt(mean_squared_error(y_test, preds))\n",
    "\n",
    "print(f\"MAE: {mae:.2f}, RMSE: {rmse:.2f}\")"
   ]
  },
  {
   "cell_type": "code",
   "execution_count": null,
   "metadata": {},
   "outputs": [],
   "source": [
    "# 📌 10. Plot Actual data vs Predicted data\n",
    "plt.figure(figsize=(12,5))\n",
    "plt.plot(dates_test, y_test.values, label=\"Actual\", marker='o', markersize=3)\n",
    "plt.plot(dates_test, preds, label=\"Predicted\", linestyle='--')\n",
    "plt.title(\"Actual vs Predicted Visits\")\n",
    "plt.xlabel(\"Date\")\n",
    "plt.ylabel(\"Completed Visits\")\n",
    "plt.legend()\n",
    "plt.grid(True, linestyle=\"--\", alpha=0.6)\n",
    "plt.show()"
   ]
  },
  {
   "cell_type": "code",
   "execution_count": null,
   "metadata": {},
   "outputs": [],
   "source": [
    "# 📌 11. Forecast future days\n",
    "def forecast_future_days(daily_full_df, model, horizon=14):\n",
    "    df = daily_full_df.copy().set_index('date').sort_index()\n",
    "    last_date = df.index.max()\n",
    "    preds = []\n",
    "\n",
    "    future_idx = pd.date_range(last_date + pd.Timedelta(days=1),\n",
    "                               last_date + pd.Timedelta(days=horizon),\n",
    "                               freq='D')\n",
    "\n",
    "    for next_date in future_idx:\n",
    "        idx = pd.date_range(df.index.min(), next_date, freq='D')\n",
    "        tmp = df.reindex(idx)\n",
    "\n",
    "        tmp['year'] = tmp.index.year\n",
    "        tmp['month'] = tmp.index.month\n",
    "        tmp['day'] = tmp.index.day\n",
    "        tmp['dow'] = tmp.index.dayofweek\n",
    "        tmp['is_month_start'] = tmp.index.is_month_start.astype(int)\n",
    "        tmp['is_month_end'] = tmp.index.is_month_end.astype(int)\n",
    "\n",
    "        tmp['lag_1'] = tmp['demand'].shift(1)\n",
    "        tmp['lag_7'] = tmp['demand'].shift(7)\n",
    "        tmp['lag_14'] = tmp['demand'].shift(14)\n",
    "        tmp['roll7_mean'] = tmp['demand'].rolling(7).mean()\n",
    "        tmp['roll14_mean'] = tmp['demand'].rolling(14).mean()\n",
    "\n",
    "        feat_row = tmp.loc[next_date, \n",
    "            ['year','month','day','dow','is_month_start','is_month_end',\n",
    "             'lag_1','lag_7','lag_14','roll7_mean','roll14_mean']].values.reshape(1,-1)\n",
    "\n",
    "        pred = model.predict(feat_row)[0]\n",
    "        preds.append((next_date, pred))\n",
    "        df.loc[next_date, 'demand'] = pred\n",
    "\n",
    "    return pd.DataFrame(preds, columns=['date','predicted_demand'])"
   ]
  },
  {
   "cell_type": "code",
   "execution_count": null,
   "metadata": {},
   "outputs": [],
   "source": [
    "# 📌 12. Forecast next 14 days\n",
    "future_preds = forecast_future_days(daily, model, horizon=14)\n",
    "future_preds"
   ]
  },
  {
   "cell_type": "code",
   "execution_count": null,
   "metadata": {},
   "outputs": [],
   "source": [
    "# 📌 13. Plot forecast\n",
    "plt.figure(figsize=(12,6))\n",
    "plt.plot(daily['date'], daily['demand'], label=\"Historical\")\n",
    "plt.plot(future_preds['date'], future_preds['predicted_demand'], \n",
    "         label=\"Forecast\", marker='o', linestyle='--')\n",
    "plt.title(\"Forecast of Next 14 Days of Completed Visits\")\n",
    "plt.xlabel(\"Date\")\n",
    "plt.ylabel(\"Completed Visits\")\n",
    "plt.legend()\n",
    "plt.grid(True, linestyle=\"--\", alpha=0.6)\n",
    "plt.show()"
   ]
  }
 ],
 "metadata": {
  "kernelspec": {
   "display_name": "Python 3",
   "language": "python",
   "name": "python3"
  },
  "language_info": {
   "name": "python",
   "version": "3.9"
  }
 },
 "nbformat": 4,
 "nbformat_minor": 2
}
